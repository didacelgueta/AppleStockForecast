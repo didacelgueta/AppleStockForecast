{
 "cells": [
  {
   "cell_type": "markdown",
   "metadata": {},
   "source": [
    "# Exploratory Analysis"
   ]
  },
  {
   "cell_type": "code",
   "execution_count": 3,
   "metadata": {},
   "outputs": [],
   "source": [
    "import warnings\n",
    "warnings.filterwarnings('ignore')\n",
    "\n",
    "import math\n",
    "import datapackage\n",
    "import pandas as pd\n",
    "import numpy as np\n",
    "import matplotlib.pyplot as plt\n",
    "\n",
    "%matplotlib notebook"
   ]
  },
  {
   "cell_type": "code",
   "execution_count": 2,
   "metadata": {},
   "outputs": [
    {
     "data": {
      "text/html": [
       "<div>\n",
       "<style scoped>\n",
       "    .dataframe tbody tr th:only-of-type {\n",
       "        vertical-align: middle;\n",
       "    }\n",
       "\n",
       "    .dataframe tbody tr th {\n",
       "        vertical-align: top;\n",
       "    }\n",
       "\n",
       "    .dataframe thead th {\n",
       "        text-align: right;\n",
       "    }\n",
       "</style>\n",
       "<table border=\"1\" class=\"dataframe\">\n",
       "  <thead>\n",
       "    <tr style=\"text-align: right;\">\n",
       "      <th></th>\n",
       "      <th>Symbol</th>\n",
       "      <th>Name</th>\n",
       "      <th>Sector</th>\n",
       "    </tr>\n",
       "  </thead>\n",
       "  <tbody>\n",
       "    <tr>\n",
       "      <td>0</td>\n",
       "      <td>MMM</td>\n",
       "      <td>3M Company</td>\n",
       "      <td>Industrials</td>\n",
       "    </tr>\n",
       "    <tr>\n",
       "      <td>1</td>\n",
       "      <td>AOS</td>\n",
       "      <td>A.O. Smith Corp</td>\n",
       "      <td>Industrials</td>\n",
       "    </tr>\n",
       "    <tr>\n",
       "      <td>2</td>\n",
       "      <td>ABT</td>\n",
       "      <td>Abbott Laboratories</td>\n",
       "      <td>Health Care</td>\n",
       "    </tr>\n",
       "  </tbody>\n",
       "</table>\n",
       "</div>"
      ],
      "text/plain": [
       "  Symbol                 Name       Sector\n",
       "0    MMM           3M Company  Industrials\n",
       "1    AOS      A.O. Smith Corp  Industrials\n",
       "2    ABT  Abbott Laboratories  Health Care"
      ]
     },
     "execution_count": 2,
     "metadata": {},
     "output_type": "execute_result"
    }
   ],
   "source": [
    "# Load all companies from S&P500\n",
    "data_url = 'https://datahub.io/core/s-and-p-500-companies/datapackage.json'\n",
    "\n",
    "package = datapackage.Package(data_url)\n",
    "\n",
    "resources = package.resources\n",
    "for resource in resources:\n",
    "    if resource.tabular:\n",
    "        data = pd.read_csv(resource.descriptor['path'])\n",
    "data.head(3)"
   ]
  },
  {
   "cell_type": "code",
   "execution_count": 3,
   "metadata": {},
   "outputs": [],
   "source": [
    "# Save the symbols dataset to a csv\n",
    "data.to_csv(r'/home/didac/master_data_science/99_TFM/idees/priceStockAnalysis/datasets/symbols.csv', index = False)"
   ]
  },
  {
   "cell_type": "code",
   "execution_count": 4,
   "metadata": {},
   "outputs": [],
   "source": [
    "# Load csv to pandas\n",
    "df_symbols = pd.read_csv(\"datasets/symbols.csv\", sep=\",\")"
   ]
  },
  {
   "cell_type": "code",
   "execution_count": 5,
   "metadata": {
    "scrolled": false
   },
   "outputs": [
    {
     "data": {
      "text/html": [
       "<div>\n",
       "<style scoped>\n",
       "    .dataframe tbody tr th:only-of-type {\n",
       "        vertical-align: middle;\n",
       "    }\n",
       "\n",
       "    .dataframe tbody tr th {\n",
       "        vertical-align: top;\n",
       "    }\n",
       "\n",
       "    .dataframe thead th {\n",
       "        text-align: right;\n",
       "    }\n",
       "</style>\n",
       "<table border=\"1\" class=\"dataframe\">\n",
       "  <thead>\n",
       "    <tr style=\"text-align: right;\">\n",
       "      <th></th>\n",
       "      <th>Symbol</th>\n",
       "      <th>Name</th>\n",
       "      <th>Sector</th>\n",
       "    </tr>\n",
       "  </thead>\n",
       "  <tbody>\n",
       "    <tr>\n",
       "      <td>0</td>\n",
       "      <td>MMM</td>\n",
       "      <td>3M Company</td>\n",
       "      <td>Industrials</td>\n",
       "    </tr>\n",
       "    <tr>\n",
       "      <td>1</td>\n",
       "      <td>AOS</td>\n",
       "      <td>A.O. Smith Corp</td>\n",
       "      <td>Industrials</td>\n",
       "    </tr>\n",
       "    <tr>\n",
       "      <td>2</td>\n",
       "      <td>ABT</td>\n",
       "      <td>Abbott Laboratories</td>\n",
       "      <td>Health Care</td>\n",
       "    </tr>\n",
       "  </tbody>\n",
       "</table>\n",
       "</div>"
      ],
      "text/plain": [
       "  Symbol                 Name       Sector\n",
       "0    MMM           3M Company  Industrials\n",
       "1    AOS      A.O. Smith Corp  Industrials\n",
       "2    ABT  Abbott Laboratories  Health Care"
      ]
     },
     "execution_count": 5,
     "metadata": {},
     "output_type": "execute_result"
    }
   ],
   "source": [
    "df_symbols.head(3)"
   ]
  },
  {
   "cell_type": "code",
   "execution_count": 6,
   "metadata": {},
   "outputs": [
    {
     "data": {
      "text/plain": [
       "array(['Industrials', 'Health Care', 'Information Technology',\n",
       "       'Communication Services', 'Consumer Discretionary', 'Utilities',\n",
       "       'Financials', 'Materials', 'Real Estate', 'Consumer Staples',\n",
       "       'Energy'], dtype=object)"
      ]
     },
     "execution_count": 6,
     "metadata": {},
     "output_type": "execute_result"
    }
   ],
   "source": [
    "df_symbols['Sector'].unique()"
   ]
  },
  {
   "cell_type": "code",
   "execution_count": 7,
   "metadata": {},
   "outputs": [],
   "source": [
    "# Get all Information Technology companies\n",
    "def sectorSymbol(sector):\n",
    "    df_sector_symbol = df_symbols[df_symbols[\"Sector\"] == sector]\n",
    "    return df_sector_symbol"
   ]
  },
  {
   "cell_type": "markdown",
   "metadata": {},
   "source": [
    "<h3>Create sectors dataframes"
   ]
  },
  {
   "cell_type": "code",
   "execution_count": 8,
   "metadata": {},
   "outputs": [],
   "source": [
    "df_symbols_tech = sectorSymbol('Information Technology')\n",
    "df_symbols_ind = sectorSymbol('Industrials')\n",
    "df_symbols_fin = sectorSymbol('Financials')\n",
    "df_symbols_health = sectorSymbol('Health Care')"
   ]
  },
  {
   "cell_type": "markdown",
   "metadata": {},
   "source": [
    "<h5>Drop invalid row"
   ]
  },
  {
   "cell_type": "code",
   "execution_count": 9,
   "metadata": {
    "scrolled": true
   },
   "outputs": [],
   "source": [
    "# Drop BRK.B it give error when scraping data\n",
    "idx_brk_b = df_symbols_fin[df_symbols_fin['Symbol'] == 'BRK.B'].index[0]\n",
    "df_symbols_fin.drop([idx_brk_b], inplace=True)"
   ]
  },
  {
   "cell_type": "markdown",
   "metadata": {},
   "source": [
    "<h4>Define period"
   ]
  },
  {
   "cell_type": "code",
   "execution_count": 10,
   "metadata": {},
   "outputs": [],
   "source": [
    "from datetime import date\n",
    "\n",
    "START = '2015-01-01'\n",
    "END = date.today().strftime(\"%Y-%m-%d\")"
   ]
  },
  {
   "cell_type": "markdown",
   "metadata": {},
   "source": [
    "### Analyse sector companies"
   ]
  },
  {
   "cell_type": "code",
   "execution_count": 11,
   "metadata": {},
   "outputs": [],
   "source": [
    "import pandas_datareader as web\n",
    "\n",
    "def createSectorDataFrame(df_input):\n",
    "    df_companies = pd.DataFrame()\n",
    "    for symbol in df_input['Symbol']:\n",
    "        df = web.DataReader(symbol, data_source='yahoo', start=START, end=END)\n",
    "        df['Symbol'] = symbol\n",
    "        df.reset_index(inplace=True)\n",
    "        df_companies = pd.concat([df_companies, df])\n",
    "    return df_companies"
   ]
  },
  {
   "cell_type": "markdown",
   "metadata": {},
   "source": [
    "<h4>Create Sector dataframes"
   ]
  },
  {
   "cell_type": "code",
   "execution_count": 12,
   "metadata": {},
   "outputs": [],
   "source": [
    "# Technological companies\n",
    "tech_companies = createSectorDataFrame(df_symbols_tech)"
   ]
  },
  {
   "cell_type": "code",
   "execution_count": 13,
   "metadata": {},
   "outputs": [],
   "source": [
    "# Industrial companies\n",
    "ind_companies = createSectorDataFrame(df_symbols_ind)"
   ]
  },
  {
   "cell_type": "code",
   "execution_count": 18,
   "metadata": {},
   "outputs": [],
   "source": [
    "# Financials companies\n",
    "fin_companies = createSectorDataFrame(df_symbols_fin)"
   ]
  },
  {
   "cell_type": "code",
   "execution_count": null,
   "metadata": {},
   "outputs": [],
   "source": [
    "# Health care companies\n",
    "health_companies = createSectorDataFrame(df_symbols_health)"
   ]
  },
  {
   "cell_type": "markdown",
   "metadata": {},
   "source": [
    "<h4>Save dataframe to csv"
   ]
  },
  {
   "cell_type": "code",
   "execution_count": null,
   "metadata": {},
   "outputs": [],
   "source": [
    "# Save the sector companies dataset to a csv\n",
    "tech_companies.to_csv(r'/home/didac/master_data_science/99_TFM/idees/priceStockAnalysis/datasets/tech_companies.csv', index = False)\n",
    "ind_companies.to_csv(r'/home/didac/master_data_science/99_TFM/idees/priceStockAnalysis/datasets/ind_companies.csv', index = False)\n",
    "fin_companies.to_csv(r'/home/didac/master_data_science/99_TFM/idees/priceStockAnalysis/datasets/fin_companies.csv', index = False)\n",
    "health_companies.to_csv(r'/home/didac/master_data_science/99_TFM/idees/priceStockAnalysis/datasets/health_companies.csv', index = False)"
   ]
  },
  {
   "cell_type": "markdown",
   "metadata": {},
   "source": [
    "<h4>Load csv to dataframes"
   ]
  },
  {
   "cell_type": "code",
   "execution_count": 4,
   "metadata": {},
   "outputs": [],
   "source": [
    "# Read sector companies csv\n",
    "df_tech_companies = pd.read_csv(\"datasets/tech_companies.csv\", sep=\",\")\n",
    "df_ind_companies = pd.read_csv(\"datasets/ind_companies.csv\", sep=\",\")\n",
    "df_fin_companies = pd.read_csv(\"datasets/fin_companies.csv\", sep=\",\")\n",
    "df_health_companies = pd.read_csv(\"datasets/health_companies.csv\", sep=\",\")"
   ]
  },
  {
   "cell_type": "markdown",
   "metadata": {},
   "source": [
    "<h4>Show Dataframes"
   ]
  },
  {
   "cell_type": "code",
   "execution_count": 5,
   "metadata": {
    "scrolled": true
   },
   "outputs": [
    {
     "data": {
      "text/html": [
       "<div>\n",
       "<style scoped>\n",
       "    .dataframe tbody tr th:only-of-type {\n",
       "        vertical-align: middle;\n",
       "    }\n",
       "\n",
       "    .dataframe tbody tr th {\n",
       "        vertical-align: top;\n",
       "    }\n",
       "\n",
       "    .dataframe thead th {\n",
       "        text-align: right;\n",
       "    }\n",
       "</style>\n",
       "<table border=\"1\" class=\"dataframe\">\n",
       "  <thead>\n",
       "    <tr style=\"text-align: right;\">\n",
       "      <th></th>\n",
       "      <th>Date</th>\n",
       "      <th>High</th>\n",
       "      <th>Low</th>\n",
       "      <th>Open</th>\n",
       "      <th>Close</th>\n",
       "      <th>Volume</th>\n",
       "      <th>Adj Close</th>\n",
       "      <th>Symbol</th>\n",
       "    </tr>\n",
       "  </thead>\n",
       "  <tbody>\n",
       "    <tr>\n",
       "      <td>0</td>\n",
       "      <td>2015-01-02</td>\n",
       "      <td>90.089996</td>\n",
       "      <td>88.430000</td>\n",
       "      <td>89.669998</td>\n",
       "      <td>88.839996</td>\n",
       "      <td>2021300.0</td>\n",
       "      <td>79.213051</td>\n",
       "      <td>ACN</td>\n",
       "    </tr>\n",
       "    <tr>\n",
       "      <td>1</td>\n",
       "      <td>2015-01-05</td>\n",
       "      <td>88.320000</td>\n",
       "      <td>87.180000</td>\n",
       "      <td>88.040001</td>\n",
       "      <td>87.339996</td>\n",
       "      <td>3000000.0</td>\n",
       "      <td>77.875580</td>\n",
       "      <td>ACN</td>\n",
       "    </tr>\n",
       "    <tr>\n",
       "      <td>2</td>\n",
       "      <td>2015-01-06</td>\n",
       "      <td>87.769997</td>\n",
       "      <td>86.010002</td>\n",
       "      <td>87.500000</td>\n",
       "      <td>86.709999</td>\n",
       "      <td>2867000.0</td>\n",
       "      <td>77.313828</td>\n",
       "      <td>ACN</td>\n",
       "    </tr>\n",
       "  </tbody>\n",
       "</table>\n",
       "</div>"
      ],
      "text/plain": [
       "         Date       High        Low       Open      Close     Volume  \\\n",
       "0  2015-01-02  90.089996  88.430000  89.669998  88.839996  2021300.0   \n",
       "1  2015-01-05  88.320000  87.180000  88.040001  87.339996  3000000.0   \n",
       "2  2015-01-06  87.769997  86.010002  87.500000  86.709999  2867000.0   \n",
       "\n",
       "   Adj Close Symbol  \n",
       "0  79.213051    ACN  \n",
       "1  77.875580    ACN  \n",
       "2  77.313828    ACN  "
      ]
     },
     "execution_count": 5,
     "metadata": {},
     "output_type": "execute_result"
    }
   ],
   "source": [
    "df_tech_companies.head(3)"
   ]
  },
  {
   "cell_type": "code",
   "execution_count": 6,
   "metadata": {},
   "outputs": [
    {
     "data": {
      "text/html": [
       "<div>\n",
       "<style scoped>\n",
       "    .dataframe tbody tr th:only-of-type {\n",
       "        vertical-align: middle;\n",
       "    }\n",
       "\n",
       "    .dataframe tbody tr th {\n",
       "        vertical-align: top;\n",
       "    }\n",
       "\n",
       "    .dataframe thead th {\n",
       "        text-align: right;\n",
       "    }\n",
       "</style>\n",
       "<table border=\"1\" class=\"dataframe\">\n",
       "  <thead>\n",
       "    <tr style=\"text-align: right;\">\n",
       "      <th></th>\n",
       "      <th>Date</th>\n",
       "      <th>High</th>\n",
       "      <th>Low</th>\n",
       "      <th>Open</th>\n",
       "      <th>Close</th>\n",
       "      <th>Volume</th>\n",
       "      <th>Adj Close</th>\n",
       "      <th>Symbol</th>\n",
       "    </tr>\n",
       "  </thead>\n",
       "  <tbody>\n",
       "    <tr>\n",
       "      <td>0</td>\n",
       "      <td>2015-01-02</td>\n",
       "      <td>165.080002</td>\n",
       "      <td>162.729996</td>\n",
       "      <td>164.710007</td>\n",
       "      <td>164.059998</td>\n",
       "      <td>2116400.0</td>\n",
       "      <td>139.397049</td>\n",
       "      <td>MMM</td>\n",
       "    </tr>\n",
       "    <tr>\n",
       "      <td>1</td>\n",
       "      <td>2015-01-05</td>\n",
       "      <td>163.639999</td>\n",
       "      <td>160.080002</td>\n",
       "      <td>163.000000</td>\n",
       "      <td>160.360001</td>\n",
       "      <td>3692900.0</td>\n",
       "      <td>136.253281</td>\n",
       "      <td>MMM</td>\n",
       "    </tr>\n",
       "    <tr>\n",
       "      <td>2</td>\n",
       "      <td>2015-01-06</td>\n",
       "      <td>161.369995</td>\n",
       "      <td>157.740005</td>\n",
       "      <td>160.820007</td>\n",
       "      <td>158.649994</td>\n",
       "      <td>3532000.0</td>\n",
       "      <td>134.800354</td>\n",
       "      <td>MMM</td>\n",
       "    </tr>\n",
       "  </tbody>\n",
       "</table>\n",
       "</div>"
      ],
      "text/plain": [
       "         Date        High         Low        Open       Close     Volume  \\\n",
       "0  2015-01-02  165.080002  162.729996  164.710007  164.059998  2116400.0   \n",
       "1  2015-01-05  163.639999  160.080002  163.000000  160.360001  3692900.0   \n",
       "2  2015-01-06  161.369995  157.740005  160.820007  158.649994  3532000.0   \n",
       "\n",
       "    Adj Close Symbol  \n",
       "0  139.397049    MMM  \n",
       "1  136.253281    MMM  \n",
       "2  134.800354    MMM  "
      ]
     },
     "execution_count": 6,
     "metadata": {},
     "output_type": "execute_result"
    }
   ],
   "source": [
    "df_ind_companies.head(3)"
   ]
  },
  {
   "cell_type": "code",
   "execution_count": 7,
   "metadata": {},
   "outputs": [
    {
     "data": {
      "text/html": [
       "<div>\n",
       "<style scoped>\n",
       "    .dataframe tbody tr th:only-of-type {\n",
       "        vertical-align: middle;\n",
       "    }\n",
       "\n",
       "    .dataframe tbody tr th {\n",
       "        vertical-align: top;\n",
       "    }\n",
       "\n",
       "    .dataframe thead th {\n",
       "        text-align: right;\n",
       "    }\n",
       "</style>\n",
       "<table border=\"1\" class=\"dataframe\">\n",
       "  <thead>\n",
       "    <tr style=\"text-align: right;\">\n",
       "      <th></th>\n",
       "      <th>Date</th>\n",
       "      <th>High</th>\n",
       "      <th>Low</th>\n",
       "      <th>Open</th>\n",
       "      <th>Close</th>\n",
       "      <th>Volume</th>\n",
       "      <th>Adj Close</th>\n",
       "      <th>Symbol</th>\n",
       "    </tr>\n",
       "  </thead>\n",
       "  <tbody>\n",
       "    <tr>\n",
       "      <td>0</td>\n",
       "      <td>2015-01-02</td>\n",
       "      <td>30.805</td>\n",
       "      <td>30.330000</td>\n",
       "      <td>30.750000</td>\n",
       "      <td>30.540001</td>\n",
       "      <td>2846000.0</td>\n",
       "      <td>26.629417</td>\n",
       "      <td>AFL</td>\n",
       "    </tr>\n",
       "    <tr>\n",
       "      <td>1</td>\n",
       "      <td>2015-01-05</td>\n",
       "      <td>30.275</td>\n",
       "      <td>29.620001</td>\n",
       "      <td>30.219999</td>\n",
       "      <td>29.740000</td>\n",
       "      <td>4757000.0</td>\n",
       "      <td>25.931858</td>\n",
       "      <td>AFL</td>\n",
       "    </tr>\n",
       "    <tr>\n",
       "      <td>2</td>\n",
       "      <td>2015-01-06</td>\n",
       "      <td>29.775</td>\n",
       "      <td>29.395000</td>\n",
       "      <td>29.705000</td>\n",
       "      <td>29.475000</td>\n",
       "      <td>5819000.0</td>\n",
       "      <td>25.700788</td>\n",
       "      <td>AFL</td>\n",
       "    </tr>\n",
       "  </tbody>\n",
       "</table>\n",
       "</div>"
      ],
      "text/plain": [
       "         Date    High        Low       Open      Close     Volume  Adj Close  \\\n",
       "0  2015-01-02  30.805  30.330000  30.750000  30.540001  2846000.0  26.629417   \n",
       "1  2015-01-05  30.275  29.620001  30.219999  29.740000  4757000.0  25.931858   \n",
       "2  2015-01-06  29.775  29.395000  29.705000  29.475000  5819000.0  25.700788   \n",
       "\n",
       "  Symbol  \n",
       "0    AFL  \n",
       "1    AFL  \n",
       "2    AFL  "
      ]
     },
     "execution_count": 7,
     "metadata": {},
     "output_type": "execute_result"
    }
   ],
   "source": [
    "df_fin_companies.head(3)"
   ]
  },
  {
   "cell_type": "code",
   "execution_count": 8,
   "metadata": {},
   "outputs": [
    {
     "data": {
      "text/html": [
       "<div>\n",
       "<style scoped>\n",
       "    .dataframe tbody tr th:only-of-type {\n",
       "        vertical-align: middle;\n",
       "    }\n",
       "\n",
       "    .dataframe tbody tr th {\n",
       "        vertical-align: top;\n",
       "    }\n",
       "\n",
       "    .dataframe thead th {\n",
       "        text-align: right;\n",
       "    }\n",
       "</style>\n",
       "<table border=\"1\" class=\"dataframe\">\n",
       "  <thead>\n",
       "    <tr style=\"text-align: right;\">\n",
       "      <th></th>\n",
       "      <th>Date</th>\n",
       "      <th>High</th>\n",
       "      <th>Low</th>\n",
       "      <th>Open</th>\n",
       "      <th>Close</th>\n",
       "      <th>Volume</th>\n",
       "      <th>Adj Close</th>\n",
       "      <th>Symbol</th>\n",
       "    </tr>\n",
       "  </thead>\n",
       "  <tbody>\n",
       "    <tr>\n",
       "      <td>0</td>\n",
       "      <td>2015-01-02</td>\n",
       "      <td>45.450001</td>\n",
       "      <td>44.639999</td>\n",
       "      <td>45.250000</td>\n",
       "      <td>44.900002</td>\n",
       "      <td>3216600.0</td>\n",
       "      <td>39.993912</td>\n",
       "      <td>ABT</td>\n",
       "    </tr>\n",
       "    <tr>\n",
       "      <td>1</td>\n",
       "      <td>2015-01-05</td>\n",
       "      <td>45.400002</td>\n",
       "      <td>44.630001</td>\n",
       "      <td>44.799999</td>\n",
       "      <td>44.910000</td>\n",
       "      <td>5735900.0</td>\n",
       "      <td>40.002811</td>\n",
       "      <td>ABT</td>\n",
       "    </tr>\n",
       "    <tr>\n",
       "      <td>2</td>\n",
       "      <td>2015-01-06</td>\n",
       "      <td>45.110001</td>\n",
       "      <td>43.930000</td>\n",
       "      <td>44.990002</td>\n",
       "      <td>44.400002</td>\n",
       "      <td>6584300.0</td>\n",
       "      <td>39.548553</td>\n",
       "      <td>ABT</td>\n",
       "    </tr>\n",
       "  </tbody>\n",
       "</table>\n",
       "</div>"
      ],
      "text/plain": [
       "         Date       High        Low       Open      Close     Volume  \\\n",
       "0  2015-01-02  45.450001  44.639999  45.250000  44.900002  3216600.0   \n",
       "1  2015-01-05  45.400002  44.630001  44.799999  44.910000  5735900.0   \n",
       "2  2015-01-06  45.110001  43.930000  44.990002  44.400002  6584300.0   \n",
       "\n",
       "   Adj Close Symbol  \n",
       "0  39.993912    ABT  \n",
       "1  40.002811    ABT  \n",
       "2  39.548553    ABT  "
      ]
     },
     "execution_count": 8,
     "metadata": {},
     "output_type": "execute_result"
    }
   ],
   "source": [
    "df_health_companies.head(3)"
   ]
  },
  {
   "cell_type": "markdown",
   "metadata": {},
   "source": [
    "<h4>Reorder dataframes"
   ]
  },
  {
   "cell_type": "code",
   "execution_count": 9,
   "metadata": {},
   "outputs": [],
   "source": [
    "# Sort all the companies by date\n",
    "def sortDate(df):\n",
    "    df['Date'] = df['Date'].astype(np.datetime64)\n",
    "    df.sort_values(by=['Date'], inplace=True)\n",
    "    df.set_index('Date', inplace=True)\n",
    "    return df"
   ]
  },
  {
   "cell_type": "code",
   "execution_count": 10,
   "metadata": {},
   "outputs": [],
   "source": [
    "df_tech_companies_sorted = sortDate(df_tech_companies)\n",
    "df_ind_companies_sorted = sortDate(df_ind_companies)\n",
    "df_fin_companies_sorted = sortDate(df_fin_companies)\n",
    "df_health_companies_sorted = sortDate(df_health_companies)"
   ]
  },
  {
   "cell_type": "markdown",
   "metadata": {},
   "source": [
    "<h3>Analyse the growth from the different sectors companies"
   ]
  },
  {
   "cell_type": "code",
   "execution_count": 11,
   "metadata": {},
   "outputs": [],
   "source": [
    "# Get the closing price of each stock at the end of each year\n",
    "def growthData(df_intput):\n",
    "    all_symbols = df_intput['Symbol'].unique().tolist()\n",
    "    growth_data = pd.DataFrame(index=all_symbols, columns=['2015','2016','2017','2018','2019','2020'])\n",
    "    for sym in all_symbols:\n",
    "        sym_data = df_intput[df_intput['Symbol'] == sym]['Close']\n",
    "        year_end_close_prices = []\n",
    "        for year in range(2015, 2021):\n",
    "            close_price = sym_data[sym_data.index.year == year]\n",
    "            if close_price.size > 0:\n",
    "                year_end_close_prices.append(float(sym_data[sym_data.index.year == year].tail(1)))\n",
    "            else:\n",
    "                year_end_close_prices.append(np.nan)\n",
    "        growth_data.loc[sym] = year_end_close_prices\n",
    "    return growth_data"
   ]
  },
  {
   "cell_type": "code",
   "execution_count": 12,
   "metadata": {},
   "outputs": [],
   "source": [
    "# Calculate the percentage change of each stock year on year\n",
    "# pct_change --> Percentage change between the current and a prior element.\n",
    "def growth_pct(growthData):\n",
    "    growthData_pct_change = growthData.pct_change(axis='columns')\n",
    "#     growthData_pct_change.head()\n",
    "    return growthData_pct_change"
   ]
  },
  {
   "cell_type": "code",
   "execution_count": 13,
   "metadata": {},
   "outputs": [
    {
     "data": {
      "text/html": [
       "<div>\n",
       "<style scoped>\n",
       "    .dataframe tbody tr th:only-of-type {\n",
       "        vertical-align: middle;\n",
       "    }\n",
       "\n",
       "    .dataframe tbody tr th {\n",
       "        vertical-align: top;\n",
       "    }\n",
       "\n",
       "    .dataframe thead th {\n",
       "        text-align: right;\n",
       "    }\n",
       "</style>\n",
       "<table border=\"1\" class=\"dataframe\">\n",
       "  <thead>\n",
       "    <tr style=\"text-align: right;\">\n",
       "      <th></th>\n",
       "      <th>2015</th>\n",
       "      <th>2016</th>\n",
       "      <th>2017</th>\n",
       "      <th>2018</th>\n",
       "      <th>2019</th>\n",
       "      <th>2020</th>\n",
       "    </tr>\n",
       "  </thead>\n",
       "  <tbody>\n",
       "    <tr>\n",
       "      <td>ACN</td>\n",
       "      <td>NaN</td>\n",
       "      <td>0.120861</td>\n",
       "      <td>0.307009</td>\n",
       "      <td>-0.078908</td>\n",
       "      <td>0.493298</td>\n",
       "      <td>0.143895</td>\n",
       "    </tr>\n",
       "    <tr>\n",
       "      <td>SNPS</td>\n",
       "      <td>NaN</td>\n",
       "      <td>0.290506</td>\n",
       "      <td>0.448182</td>\n",
       "      <td>-0.011732</td>\n",
       "      <td>0.652422</td>\n",
       "      <td>0.560129</td>\n",
       "    </tr>\n",
       "    <tr>\n",
       "      <td>STX</td>\n",
       "      <td>NaN</td>\n",
       "      <td>0.041189</td>\n",
       "      <td>0.096149</td>\n",
       "      <td>-0.077677</td>\n",
       "      <td>0.541850</td>\n",
       "      <td>-0.234454</td>\n",
       "    </tr>\n",
       "  </tbody>\n",
       "</table>\n",
       "</div>"
      ],
      "text/plain": [
       "      2015      2016      2017      2018      2019      2020\n",
       "ACN    NaN  0.120861  0.307009 -0.078908  0.493298  0.143895\n",
       "SNPS   NaN  0.290506  0.448182 -0.011732  0.652422  0.560129\n",
       "STX    NaN  0.041189  0.096149 -0.077677  0.541850 -0.234454"
      ]
     },
     "execution_count": 13,
     "metadata": {},
     "output_type": "execute_result"
    }
   ],
   "source": [
    "# Technological sector\n",
    "tech_growth = growth_pct(growthData(df_tech_companies_sorted))\n",
    "tech_growth.head(3)"
   ]
  },
  {
   "cell_type": "code",
   "execution_count": 14,
   "metadata": {},
   "outputs": [
    {
     "data": {
      "text/html": [
       "<div>\n",
       "<style scoped>\n",
       "    .dataframe tbody tr th:only-of-type {\n",
       "        vertical-align: middle;\n",
       "    }\n",
       "\n",
       "    .dataframe tbody tr th {\n",
       "        vertical-align: top;\n",
       "    }\n",
       "\n",
       "    .dataframe thead th {\n",
       "        text-align: right;\n",
       "    }\n",
       "</style>\n",
       "<table border=\"1\" class=\"dataframe\">\n",
       "  <thead>\n",
       "    <tr style=\"text-align: right;\">\n",
       "      <th></th>\n",
       "      <th>2015</th>\n",
       "      <th>2016</th>\n",
       "      <th>2017</th>\n",
       "      <th>2018</th>\n",
       "      <th>2019</th>\n",
       "      <th>2020</th>\n",
       "    </tr>\n",
       "  </thead>\n",
       "  <tbody>\n",
       "    <tr>\n",
       "      <td>MMM</td>\n",
       "      <td>NaN</td>\n",
       "      <td>0.185409</td>\n",
       "      <td>0.318082</td>\n",
       "      <td>-0.190466</td>\n",
       "      <td>-0.074105</td>\n",
       "      <td>-0.069947</td>\n",
       "    </tr>\n",
       "    <tr>\n",
       "      <td>ITW</td>\n",
       "      <td>NaN</td>\n",
       "      <td>0.321321</td>\n",
       "      <td>0.362486</td>\n",
       "      <td>-0.240695</td>\n",
       "      <td>0.417870</td>\n",
       "      <td>0.105996</td>\n",
       "    </tr>\n",
       "    <tr>\n",
       "      <td>JBHT</td>\n",
       "      <td>NaN</td>\n",
       "      <td>0.323201</td>\n",
       "      <td>0.184506</td>\n",
       "      <td>-0.190816</td>\n",
       "      <td>0.255159</td>\n",
       "      <td>0.222812</td>\n",
       "    </tr>\n",
       "  </tbody>\n",
       "</table>\n",
       "</div>"
      ],
      "text/plain": [
       "      2015      2016      2017      2018      2019      2020\n",
       "MMM    NaN  0.185409  0.318082 -0.190466 -0.074105 -0.069947\n",
       "ITW    NaN  0.321321  0.362486 -0.240695  0.417870  0.105996\n",
       "JBHT   NaN  0.323201  0.184506 -0.190816  0.255159  0.222812"
      ]
     },
     "execution_count": 14,
     "metadata": {},
     "output_type": "execute_result"
    }
   ],
   "source": [
    "# Industrial sector\n",
    "ind_growth = growth_pct(growthData(df_ind_companies_sorted))\n",
    "ind_growth.head(3)"
   ]
  },
  {
   "cell_type": "code",
   "execution_count": 15,
   "metadata": {},
   "outputs": [
    {
     "data": {
      "text/html": [
       "<div>\n",
       "<style scoped>\n",
       "    .dataframe tbody tr th:only-of-type {\n",
       "        vertical-align: middle;\n",
       "    }\n",
       "\n",
       "    .dataframe tbody tr th {\n",
       "        vertical-align: top;\n",
       "    }\n",
       "\n",
       "    .dataframe thead th {\n",
       "        text-align: right;\n",
       "    }\n",
       "</style>\n",
       "<table border=\"1\" class=\"dataframe\">\n",
       "  <thead>\n",
       "    <tr style=\"text-align: right;\">\n",
       "      <th></th>\n",
       "      <th>2015</th>\n",
       "      <th>2016</th>\n",
       "      <th>2017</th>\n",
       "      <th>2018</th>\n",
       "      <th>2019</th>\n",
       "      <th>2020</th>\n",
       "    </tr>\n",
       "  </thead>\n",
       "  <tbody>\n",
       "    <tr>\n",
       "      <td>AFL</td>\n",
       "      <td>NaN</td>\n",
       "      <td>0.161937</td>\n",
       "      <td>0.261207</td>\n",
       "      <td>0.038050</td>\n",
       "      <td>0.161106</td>\n",
       "      <td>-0.302836</td>\n",
       "    </tr>\n",
       "    <tr>\n",
       "      <td>BLK</td>\n",
       "      <td>NaN</td>\n",
       "      <td>0.117526</td>\n",
       "      <td>0.349950</td>\n",
       "      <td>-0.235327</td>\n",
       "      <td>0.279721</td>\n",
       "      <td>0.183569</td>\n",
       "    </tr>\n",
       "    <tr>\n",
       "      <td>BK</td>\n",
       "      <td>NaN</td>\n",
       "      <td>0.149442</td>\n",
       "      <td>0.136767</td>\n",
       "      <td>-0.126068</td>\n",
       "      <td>0.069259</td>\n",
       "      <td>-0.253924</td>\n",
       "    </tr>\n",
       "  </tbody>\n",
       "</table>\n",
       "</div>"
      ],
      "text/plain": [
       "     2015      2016      2017      2018      2019      2020\n",
       "AFL   NaN  0.161937  0.261207  0.038050  0.161106 -0.302836\n",
       "BLK   NaN  0.117526  0.349950 -0.235327  0.279721  0.183569\n",
       "BK    NaN  0.149442  0.136767 -0.126068  0.069259 -0.253924"
      ]
     },
     "execution_count": 15,
     "metadata": {},
     "output_type": "execute_result"
    }
   ],
   "source": [
    "# Finantial sector\n",
    "fin_growth = growth_pct(growthData(df_fin_companies_sorted))\n",
    "fin_growth.head(3)"
   ]
  },
  {
   "cell_type": "code",
   "execution_count": 16,
   "metadata": {},
   "outputs": [
    {
     "data": {
      "text/html": [
       "<div>\n",
       "<style scoped>\n",
       "    .dataframe tbody tr th:only-of-type {\n",
       "        vertical-align: middle;\n",
       "    }\n",
       "\n",
       "    .dataframe tbody tr th {\n",
       "        vertical-align: top;\n",
       "    }\n",
       "\n",
       "    .dataframe thead th {\n",
       "        text-align: right;\n",
       "    }\n",
       "</style>\n",
       "<table border=\"1\" class=\"dataframe\">\n",
       "  <thead>\n",
       "    <tr style=\"text-align: right;\">\n",
       "      <th></th>\n",
       "      <th>2015</th>\n",
       "      <th>2016</th>\n",
       "      <th>2017</th>\n",
       "      <th>2018</th>\n",
       "      <th>2019</th>\n",
       "      <th>2020</th>\n",
       "    </tr>\n",
       "  </thead>\n",
       "  <tbody>\n",
       "    <tr>\n",
       "      <td>ABT</td>\n",
       "      <td>NaN</td>\n",
       "      <td>-0.144734</td>\n",
       "      <td>0.485811</td>\n",
       "      <td>0.267391</td>\n",
       "      <td>0.200885</td>\n",
       "      <td>0.281257</td>\n",
       "    </tr>\n",
       "    <tr>\n",
       "      <td>ZTS</td>\n",
       "      <td>NaN</td>\n",
       "      <td>0.117070</td>\n",
       "      <td>0.345787</td>\n",
       "      <td>0.187396</td>\n",
       "      <td>0.547229</td>\n",
       "      <td>0.205969</td>\n",
       "    </tr>\n",
       "    <tr>\n",
       "      <td>BAX</td>\n",
       "      <td>NaN</td>\n",
       "      <td>0.162254</td>\n",
       "      <td>0.457826</td>\n",
       "      <td>0.018255</td>\n",
       "      <td>0.270435</td>\n",
       "      <td>0.031691</td>\n",
       "    </tr>\n",
       "  </tbody>\n",
       "</table>\n",
       "</div>"
      ],
      "text/plain": [
       "     2015      2016      2017      2018      2019      2020\n",
       "ABT   NaN -0.144734  0.485811  0.267391  0.200885  0.281257\n",
       "ZTS   NaN  0.117070  0.345787  0.187396  0.547229  0.205969\n",
       "BAX   NaN  0.162254  0.457826  0.018255  0.270435  0.031691"
      ]
     },
     "execution_count": 16,
     "metadata": {},
     "output_type": "execute_result"
    }
   ],
   "source": [
    "# Finantial sector\n",
    "health_growth = growth_pct(growthData(df_health_companies_sorted))\n",
    "health_growth.head(3)"
   ]
  },
  {
   "cell_type": "markdown",
   "metadata": {},
   "source": [
    "<h4>Create a top5 companies with higher annual growth"
   ]
  },
  {
   "cell_type": "code",
   "execution_count": 25,
   "metadata": {},
   "outputs": [],
   "source": [
    "def top_growth(df):\n",
    "    top_dict = {}\n",
    "    for year in range(2016, 2021):\n",
    "        year = str(year)\n",
    "        top_dict['top'] = [1,2,3,4,5]\n",
    "        top_dict['sym_' + year] = tech_growth.sort_values(by=year, ascending=False)[year].head(5).index\n",
    "        top_dict['growth_' + year] = round(tech_growth.sort_values(by=year, ascending=False)[year].head(5), 2).values\n",
    "    df_growth = pd.DataFrame(top_dict)\n",
    "    return df_growth"
   ]
  },
  {
   "cell_type": "code",
   "execution_count": 27,
   "metadata": {},
   "outputs": [
    {
     "data": {
      "text/html": [
       "<div>\n",
       "<style scoped>\n",
       "    .dataframe tbody tr th:only-of-type {\n",
       "        vertical-align: middle;\n",
       "    }\n",
       "\n",
       "    .dataframe tbody tr th {\n",
       "        vertical-align: top;\n",
       "    }\n",
       "\n",
       "    .dataframe thead th {\n",
       "        text-align: right;\n",
       "    }\n",
       "</style>\n",
       "<table border=\"1\" class=\"dataframe\">\n",
       "  <thead>\n",
       "    <tr style=\"text-align: right;\">\n",
       "      <th></th>\n",
       "      <th>sym_2016</th>\n",
       "      <th>growth_2016</th>\n",
       "      <th>sym_2017</th>\n",
       "      <th>growth_2017</th>\n",
       "      <th>sym_2018</th>\n",
       "      <th>growth_2018</th>\n",
       "      <th>sym_2019</th>\n",
       "      <th>growth_2019</th>\n",
       "      <th>sym_2020</th>\n",
       "      <th>growth_2020</th>\n",
       "    </tr>\n",
       "    <tr>\n",
       "      <th>top</th>\n",
       "      <th></th>\n",
       "      <th></th>\n",
       "      <th></th>\n",
       "      <th></th>\n",
       "      <th></th>\n",
       "      <th></th>\n",
       "      <th></th>\n",
       "      <th></th>\n",
       "      <th></th>\n",
       "      <th></th>\n",
       "    </tr>\n",
       "  </thead>\n",
       "  <tbody>\n",
       "    <tr>\n",
       "      <td>1</td>\n",
       "      <td>AMD</td>\n",
       "      <td>2.95</td>\n",
       "      <td>ANET</td>\n",
       "      <td>1.43</td>\n",
       "      <td>AMD</td>\n",
       "      <td>0.80</td>\n",
       "      <td>AMD</td>\n",
       "      <td>1.48</td>\n",
       "      <td>NVDA</td>\n",
       "      <td>1.15</td>\n",
       "    </tr>\n",
       "    <tr>\n",
       "      <td>2</td>\n",
       "      <td>NVDA</td>\n",
       "      <td>2.24</td>\n",
       "      <td>IPGP</td>\n",
       "      <td>1.17</td>\n",
       "      <td>FTNT</td>\n",
       "      <td>0.61</td>\n",
       "      <td>PAYC</td>\n",
       "      <td>1.16</td>\n",
       "      <td>PYPL</td>\n",
       "      <td>0.89</td>\n",
       "    </tr>\n",
       "    <tr>\n",
       "      <td>3</td>\n",
       "      <td>DXC</td>\n",
       "      <td>0.82</td>\n",
       "      <td>MU</td>\n",
       "      <td>0.88</td>\n",
       "      <td>ZBRA</td>\n",
       "      <td>0.53</td>\n",
       "      <td>LRCX</td>\n",
       "      <td>1.15</td>\n",
       "      <td>AMD</td>\n",
       "      <td>0.83</td>\n",
       "    </tr>\n",
       "    <tr>\n",
       "      <td>4</td>\n",
       "      <td>AMAT</td>\n",
       "      <td>0.73</td>\n",
       "      <td>PYPL</td>\n",
       "      <td>0.87</td>\n",
       "      <td>PAYC</td>\n",
       "      <td>0.52</td>\n",
       "      <td>KLAC</td>\n",
       "      <td>0.99</td>\n",
       "      <td>AAPL</td>\n",
       "      <td>0.70</td>\n",
       "    </tr>\n",
       "    <tr>\n",
       "      <td>5</td>\n",
       "      <td>MU</td>\n",
       "      <td>0.55</td>\n",
       "      <td>NVDA</td>\n",
       "      <td>0.81</td>\n",
       "      <td>KEYS</td>\n",
       "      <td>0.49</td>\n",
       "      <td>QRVO</td>\n",
       "      <td>0.91</td>\n",
       "      <td>NOW</td>\n",
       "      <td>0.70</td>\n",
       "    </tr>\n",
       "  </tbody>\n",
       "</table>\n",
       "</div>"
      ],
      "text/plain": [
       "    sym_2016  growth_2016 sym_2017  growth_2017 sym_2018  growth_2018  \\\n",
       "top                                                                     \n",
       "1        AMD         2.95     ANET         1.43      AMD         0.80   \n",
       "2       NVDA         2.24     IPGP         1.17     FTNT         0.61   \n",
       "3        DXC         0.82       MU         0.88     ZBRA         0.53   \n",
       "4       AMAT         0.73     PYPL         0.87     PAYC         0.52   \n",
       "5         MU         0.55     NVDA         0.81     KEYS         0.49   \n",
       "\n",
       "    sym_2019  growth_2019 sym_2020  growth_2020  \n",
       "top                                              \n",
       "1        AMD         1.48     NVDA         1.15  \n",
       "2       PAYC         1.16     PYPL         0.89  \n",
       "3       LRCX         1.15      AMD         0.83  \n",
       "4       KLAC         0.99     AAPL         0.70  \n",
       "5       QRVO         0.91      NOW         0.70  "
      ]
     },
     "execution_count": 27,
     "metadata": {},
     "output_type": "execute_result"
    }
   ],
   "source": [
    "top_tech = top_growth(tech_growth)\n",
    "top_tech.set_index('top')"
   ]
  },
  {
   "cell_type": "code",
   "execution_count": 28,
   "metadata": {},
   "outputs": [
    {
     "data": {
      "text/html": [
       "<div>\n",
       "<style scoped>\n",
       "    .dataframe tbody tr th:only-of-type {\n",
       "        vertical-align: middle;\n",
       "    }\n",
       "\n",
       "    .dataframe tbody tr th {\n",
       "        vertical-align: top;\n",
       "    }\n",
       "\n",
       "    .dataframe thead th {\n",
       "        text-align: right;\n",
       "    }\n",
       "</style>\n",
       "<table border=\"1\" class=\"dataframe\">\n",
       "  <thead>\n",
       "    <tr style=\"text-align: right;\">\n",
       "      <th></th>\n",
       "      <th>sym_2016</th>\n",
       "      <th>growth_2016</th>\n",
       "      <th>sym_2017</th>\n",
       "      <th>growth_2017</th>\n",
       "      <th>sym_2018</th>\n",
       "      <th>growth_2018</th>\n",
       "      <th>sym_2019</th>\n",
       "      <th>growth_2019</th>\n",
       "      <th>sym_2020</th>\n",
       "      <th>growth_2020</th>\n",
       "    </tr>\n",
       "    <tr>\n",
       "      <th>top</th>\n",
       "      <th></th>\n",
       "      <th></th>\n",
       "      <th></th>\n",
       "      <th></th>\n",
       "      <th></th>\n",
       "      <th></th>\n",
       "      <th></th>\n",
       "      <th></th>\n",
       "      <th></th>\n",
       "      <th></th>\n",
       "    </tr>\n",
       "  </thead>\n",
       "  <tbody>\n",
       "    <tr>\n",
       "      <td>1</td>\n",
       "      <td>AMD</td>\n",
       "      <td>2.95</td>\n",
       "      <td>ANET</td>\n",
       "      <td>1.43</td>\n",
       "      <td>AMD</td>\n",
       "      <td>0.80</td>\n",
       "      <td>AMD</td>\n",
       "      <td>1.48</td>\n",
       "      <td>NVDA</td>\n",
       "      <td>1.15</td>\n",
       "    </tr>\n",
       "    <tr>\n",
       "      <td>2</td>\n",
       "      <td>NVDA</td>\n",
       "      <td>2.24</td>\n",
       "      <td>IPGP</td>\n",
       "      <td>1.17</td>\n",
       "      <td>FTNT</td>\n",
       "      <td>0.61</td>\n",
       "      <td>PAYC</td>\n",
       "      <td>1.16</td>\n",
       "      <td>PYPL</td>\n",
       "      <td>0.89</td>\n",
       "    </tr>\n",
       "    <tr>\n",
       "      <td>3</td>\n",
       "      <td>DXC</td>\n",
       "      <td>0.82</td>\n",
       "      <td>MU</td>\n",
       "      <td>0.88</td>\n",
       "      <td>ZBRA</td>\n",
       "      <td>0.53</td>\n",
       "      <td>LRCX</td>\n",
       "      <td>1.15</td>\n",
       "      <td>AMD</td>\n",
       "      <td>0.83</td>\n",
       "    </tr>\n",
       "    <tr>\n",
       "      <td>4</td>\n",
       "      <td>AMAT</td>\n",
       "      <td>0.73</td>\n",
       "      <td>PYPL</td>\n",
       "      <td>0.87</td>\n",
       "      <td>PAYC</td>\n",
       "      <td>0.52</td>\n",
       "      <td>KLAC</td>\n",
       "      <td>0.99</td>\n",
       "      <td>AAPL</td>\n",
       "      <td>0.70</td>\n",
       "    </tr>\n",
       "    <tr>\n",
       "      <td>5</td>\n",
       "      <td>MU</td>\n",
       "      <td>0.55</td>\n",
       "      <td>NVDA</td>\n",
       "      <td>0.81</td>\n",
       "      <td>KEYS</td>\n",
       "      <td>0.49</td>\n",
       "      <td>QRVO</td>\n",
       "      <td>0.91</td>\n",
       "      <td>NOW</td>\n",
       "      <td>0.70</td>\n",
       "    </tr>\n",
       "  </tbody>\n",
       "</table>\n",
       "</div>"
      ],
      "text/plain": [
       "    sym_2016  growth_2016 sym_2017  growth_2017 sym_2018  growth_2018  \\\n",
       "top                                                                     \n",
       "1        AMD         2.95     ANET         1.43      AMD         0.80   \n",
       "2       NVDA         2.24     IPGP         1.17     FTNT         0.61   \n",
       "3        DXC         0.82       MU         0.88     ZBRA         0.53   \n",
       "4       AMAT         0.73     PYPL         0.87     PAYC         0.52   \n",
       "5         MU         0.55     NVDA         0.81     KEYS         0.49   \n",
       "\n",
       "    sym_2019  growth_2019 sym_2020  growth_2020  \n",
       "top                                              \n",
       "1        AMD         1.48     NVDA         1.15  \n",
       "2       PAYC         1.16     PYPL         0.89  \n",
       "3       LRCX         1.15      AMD         0.83  \n",
       "4       KLAC         0.99     AAPL         0.70  \n",
       "5       QRVO         0.91      NOW         0.70  "
      ]
     },
     "execution_count": 28,
     "metadata": {},
     "output_type": "execute_result"
    }
   ],
   "source": [
    "top_ind = top_growth(ind_growth)\n",
    "top_ind.set_index('top')"
   ]
  },
  {
   "cell_type": "code",
   "execution_count": 29,
   "metadata": {},
   "outputs": [
    {
     "data": {
      "text/html": [
       "<div>\n",
       "<style scoped>\n",
       "    .dataframe tbody tr th:only-of-type {\n",
       "        vertical-align: middle;\n",
       "    }\n",
       "\n",
       "    .dataframe tbody tr th {\n",
       "        vertical-align: top;\n",
       "    }\n",
       "\n",
       "    .dataframe thead th {\n",
       "        text-align: right;\n",
       "    }\n",
       "</style>\n",
       "<table border=\"1\" class=\"dataframe\">\n",
       "  <thead>\n",
       "    <tr style=\"text-align: right;\">\n",
       "      <th></th>\n",
       "      <th>sym_2016</th>\n",
       "      <th>growth_2016</th>\n",
       "      <th>sym_2017</th>\n",
       "      <th>growth_2017</th>\n",
       "      <th>sym_2018</th>\n",
       "      <th>growth_2018</th>\n",
       "      <th>sym_2019</th>\n",
       "      <th>growth_2019</th>\n",
       "      <th>sym_2020</th>\n",
       "      <th>growth_2020</th>\n",
       "    </tr>\n",
       "    <tr>\n",
       "      <th>top</th>\n",
       "      <th></th>\n",
       "      <th></th>\n",
       "      <th></th>\n",
       "      <th></th>\n",
       "      <th></th>\n",
       "      <th></th>\n",
       "      <th></th>\n",
       "      <th></th>\n",
       "      <th></th>\n",
       "      <th></th>\n",
       "    </tr>\n",
       "  </thead>\n",
       "  <tbody>\n",
       "    <tr>\n",
       "      <td>1</td>\n",
       "      <td>AMD</td>\n",
       "      <td>2.95</td>\n",
       "      <td>ANET</td>\n",
       "      <td>1.43</td>\n",
       "      <td>AMD</td>\n",
       "      <td>0.80</td>\n",
       "      <td>AMD</td>\n",
       "      <td>1.48</td>\n",
       "      <td>NVDA</td>\n",
       "      <td>1.15</td>\n",
       "    </tr>\n",
       "    <tr>\n",
       "      <td>2</td>\n",
       "      <td>NVDA</td>\n",
       "      <td>2.24</td>\n",
       "      <td>IPGP</td>\n",
       "      <td>1.17</td>\n",
       "      <td>FTNT</td>\n",
       "      <td>0.61</td>\n",
       "      <td>PAYC</td>\n",
       "      <td>1.16</td>\n",
       "      <td>PYPL</td>\n",
       "      <td>0.89</td>\n",
       "    </tr>\n",
       "    <tr>\n",
       "      <td>3</td>\n",
       "      <td>DXC</td>\n",
       "      <td>0.82</td>\n",
       "      <td>MU</td>\n",
       "      <td>0.88</td>\n",
       "      <td>ZBRA</td>\n",
       "      <td>0.53</td>\n",
       "      <td>LRCX</td>\n",
       "      <td>1.15</td>\n",
       "      <td>AMD</td>\n",
       "      <td>0.83</td>\n",
       "    </tr>\n",
       "    <tr>\n",
       "      <td>4</td>\n",
       "      <td>AMAT</td>\n",
       "      <td>0.73</td>\n",
       "      <td>PYPL</td>\n",
       "      <td>0.87</td>\n",
       "      <td>PAYC</td>\n",
       "      <td>0.52</td>\n",
       "      <td>KLAC</td>\n",
       "      <td>0.99</td>\n",
       "      <td>AAPL</td>\n",
       "      <td>0.70</td>\n",
       "    </tr>\n",
       "    <tr>\n",
       "      <td>5</td>\n",
       "      <td>MU</td>\n",
       "      <td>0.55</td>\n",
       "      <td>NVDA</td>\n",
       "      <td>0.81</td>\n",
       "      <td>KEYS</td>\n",
       "      <td>0.49</td>\n",
       "      <td>QRVO</td>\n",
       "      <td>0.91</td>\n",
       "      <td>NOW</td>\n",
       "      <td>0.70</td>\n",
       "    </tr>\n",
       "  </tbody>\n",
       "</table>\n",
       "</div>"
      ],
      "text/plain": [
       "    sym_2016  growth_2016 sym_2017  growth_2017 sym_2018  growth_2018  \\\n",
       "top                                                                     \n",
       "1        AMD         2.95     ANET         1.43      AMD         0.80   \n",
       "2       NVDA         2.24     IPGP         1.17     FTNT         0.61   \n",
       "3        DXC         0.82       MU         0.88     ZBRA         0.53   \n",
       "4       AMAT         0.73     PYPL         0.87     PAYC         0.52   \n",
       "5         MU         0.55     NVDA         0.81     KEYS         0.49   \n",
       "\n",
       "    sym_2019  growth_2019 sym_2020  growth_2020  \n",
       "top                                              \n",
       "1        AMD         1.48     NVDA         1.15  \n",
       "2       PAYC         1.16     PYPL         0.89  \n",
       "3       LRCX         1.15      AMD         0.83  \n",
       "4       KLAC         0.99     AAPL         0.70  \n",
       "5       QRVO         0.91      NOW         0.70  "
      ]
     },
     "execution_count": 29,
     "metadata": {},
     "output_type": "execute_result"
    }
   ],
   "source": [
    "top_fin = top_growth(fin_growth)\n",
    "top_fin.set_index('top')"
   ]
  },
  {
   "cell_type": "code",
   "execution_count": 31,
   "metadata": {},
   "outputs": [
    {
     "data": {
      "text/html": [
       "<div>\n",
       "<style scoped>\n",
       "    .dataframe tbody tr th:only-of-type {\n",
       "        vertical-align: middle;\n",
       "    }\n",
       "\n",
       "    .dataframe tbody tr th {\n",
       "        vertical-align: top;\n",
       "    }\n",
       "\n",
       "    .dataframe thead th {\n",
       "        text-align: right;\n",
       "    }\n",
       "</style>\n",
       "<table border=\"1\" class=\"dataframe\">\n",
       "  <thead>\n",
       "    <tr style=\"text-align: right;\">\n",
       "      <th></th>\n",
       "      <th>sym_2016</th>\n",
       "      <th>growth_2016</th>\n",
       "      <th>sym_2017</th>\n",
       "      <th>growth_2017</th>\n",
       "      <th>sym_2018</th>\n",
       "      <th>growth_2018</th>\n",
       "      <th>sym_2019</th>\n",
       "      <th>growth_2019</th>\n",
       "      <th>sym_2020</th>\n",
       "      <th>growth_2020</th>\n",
       "    </tr>\n",
       "    <tr>\n",
       "      <th>top</th>\n",
       "      <th></th>\n",
       "      <th></th>\n",
       "      <th></th>\n",
       "      <th></th>\n",
       "      <th></th>\n",
       "      <th></th>\n",
       "      <th></th>\n",
       "      <th></th>\n",
       "      <th></th>\n",
       "      <th></th>\n",
       "    </tr>\n",
       "  </thead>\n",
       "  <tbody>\n",
       "    <tr>\n",
       "      <td>1</td>\n",
       "      <td>AMD</td>\n",
       "      <td>2.95</td>\n",
       "      <td>ANET</td>\n",
       "      <td>1.43</td>\n",
       "      <td>AMD</td>\n",
       "      <td>0.80</td>\n",
       "      <td>AMD</td>\n",
       "      <td>1.48</td>\n",
       "      <td>NVDA</td>\n",
       "      <td>1.15</td>\n",
       "    </tr>\n",
       "    <tr>\n",
       "      <td>2</td>\n",
       "      <td>NVDA</td>\n",
       "      <td>2.24</td>\n",
       "      <td>IPGP</td>\n",
       "      <td>1.17</td>\n",
       "      <td>FTNT</td>\n",
       "      <td>0.61</td>\n",
       "      <td>PAYC</td>\n",
       "      <td>1.16</td>\n",
       "      <td>PYPL</td>\n",
       "      <td>0.89</td>\n",
       "    </tr>\n",
       "    <tr>\n",
       "      <td>3</td>\n",
       "      <td>DXC</td>\n",
       "      <td>0.82</td>\n",
       "      <td>MU</td>\n",
       "      <td>0.88</td>\n",
       "      <td>ZBRA</td>\n",
       "      <td>0.53</td>\n",
       "      <td>LRCX</td>\n",
       "      <td>1.15</td>\n",
       "      <td>AMD</td>\n",
       "      <td>0.83</td>\n",
       "    </tr>\n",
       "    <tr>\n",
       "      <td>4</td>\n",
       "      <td>AMAT</td>\n",
       "      <td>0.73</td>\n",
       "      <td>PYPL</td>\n",
       "      <td>0.87</td>\n",
       "      <td>PAYC</td>\n",
       "      <td>0.52</td>\n",
       "      <td>KLAC</td>\n",
       "      <td>0.99</td>\n",
       "      <td>AAPL</td>\n",
       "      <td>0.70</td>\n",
       "    </tr>\n",
       "    <tr>\n",
       "      <td>5</td>\n",
       "      <td>MU</td>\n",
       "      <td>0.55</td>\n",
       "      <td>NVDA</td>\n",
       "      <td>0.81</td>\n",
       "      <td>KEYS</td>\n",
       "      <td>0.49</td>\n",
       "      <td>QRVO</td>\n",
       "      <td>0.91</td>\n",
       "      <td>NOW</td>\n",
       "      <td>0.70</td>\n",
       "    </tr>\n",
       "  </tbody>\n",
       "</table>\n",
       "</div>"
      ],
      "text/plain": [
       "    sym_2016  growth_2016 sym_2017  growth_2017 sym_2018  growth_2018  \\\n",
       "top                                                                     \n",
       "1        AMD         2.95     ANET         1.43      AMD         0.80   \n",
       "2       NVDA         2.24     IPGP         1.17     FTNT         0.61   \n",
       "3        DXC         0.82       MU         0.88     ZBRA         0.53   \n",
       "4       AMAT         0.73     PYPL         0.87     PAYC         0.52   \n",
       "5         MU         0.55     NVDA         0.81     KEYS         0.49   \n",
       "\n",
       "    sym_2019  growth_2019 sym_2020  growth_2020  \n",
       "top                                              \n",
       "1        AMD         1.48     NVDA         1.15  \n",
       "2       PAYC         1.16     PYPL         0.89  \n",
       "3       LRCX         1.15      AMD         0.83  \n",
       "4       KLAC         0.99     AAPL         0.70  \n",
       "5       QRVO         0.91      NOW         0.70  "
      ]
     },
     "execution_count": 31,
     "metadata": {},
     "output_type": "execute_result"
    }
   ],
   "source": [
    "top_health = top_growth(health_growth)\n",
    "top_health.set_index('top')"
   ]
  },
  {
   "cell_type": "markdown",
   "metadata": {},
   "source": [
    "<h4>Create average annual growth for all companies of the different sectors"
   ]
  },
  {
   "cell_type": "code",
   "execution_count": 32,
   "metadata": {},
   "outputs": [],
   "source": [
    "# Get average groth\n",
    "def getYearGrowth(df_input):\n",
    "    df_avg = pd.DataFrame()\n",
    "    for year in df_input.columns:\n",
    "        mean = df_input[year].mean()\n",
    "        df = pd.DataFrame({'year': [int(year)], 'growth': [float(mean)]})\n",
    "        df_avg = pd.concat([df_avg, df])\n",
    "    df_avg.set_index('year', inplace=True)\n",
    "    df_avg.dropna(inplace=True)\n",
    "    return df_avg"
   ]
  },
  {
   "cell_type": "code",
   "execution_count": 33,
   "metadata": {},
   "outputs": [],
   "source": [
    "tech_year_growth = getYearGrowth(tech_growth)\n",
    "ind_year_growth = getYearGrowth(ind_growth)\n",
    "fin_year_growth = getYearGrowth(fin_growth)\n",
    "health_year_growth = getYearGrowth(health_growth)"
   ]
  },
  {
   "cell_type": "code",
   "execution_count": 34,
   "metadata": {},
   "outputs": [
    {
     "data": {
      "image/png": "[encoded data removed]",
      "text/plain": [
       "<Figure size 648x360 with 1 Axes>"
      ]
     },
     "metadata": {
      "needs_background": "light"
     },
     "output_type": "display_data"
    }
   ],
   "source": [
    "fig, ax = plt.subplots(1, 1, figsize=(9, 5))\n",
    "ax.plot(tech_year_growth['growth'], label='technology')\n",
    "ax.plot(ind_year_growth['growth'], label='industrial')\n",
    "ax.plot(fin_year_growth['growth'], label='finantial')\n",
    "ax.plot(health_year_growth['growth'], label='HealthCare')\n",
    "plt.xticks([2016,2017,2018,2019,2020])\n",
    "plt.legend(loc = 'best')\n",
    "plt.tight_layout()"
   ]
  },
  {
   "cell_type": "markdown",
   "metadata": {},
   "source": [
    "<h3>Analyzing MinMax Ratios by Sector"
   ]
  },
  {
   "cell_type": "markdown",
   "metadata": {},
   "source": [
    "<p>Take the company with highest and lowest growth ration per year to analyse the evolution"
   ]
  },
  {
   "cell_type": "code",
   "execution_count": 35,
   "metadata": {},
   "outputs": [],
   "source": [
    "def ratioMinMax(df_input):\n",
    "    df_year_ratio = pd.DataFrame()\n",
    "    for year in df_input.columns:\n",
    "        if df_input[df_input[year] == np.min(df_input[year])][year].to_list():\n",
    "            _min = df_input[df_input[year] == np.min(df_input[year])][year][0]\n",
    "            _max = df_input[df_input[year] == np.max(df_input[year])][year][0]\n",
    "            df = pd.DataFrame({'year': [int(year)], \n",
    "                               'max': [float(_max)],\n",
    "                               'symbol_max': [df_input[df_input[year] == np.max(df_input[year])].index[0]],\n",
    "                               'min': [float(_min)],\n",
    "                               'symbol_min': [df_input[df_input[year] == np.min(df_input[year])].index[0]]})\n",
    "            df_year_ratio = pd.concat([df_year_ratio, df])\n",
    "        else:\n",
    "            None\n",
    "    df_year_ratio.set_index('year')\n",
    "    return df_year_ratio        "
   ]
  },
  {
   "cell_type": "markdown",
   "metadata": {},
   "source": [
    "<h4>MinMax Ratios Tech Sector"
   ]
  },
  {
   "cell_type": "code",
   "execution_count": 36,
   "metadata": {},
   "outputs": [],
   "source": [
    "df_tech_ratio = ratioMinMax(tech_growth)\n",
    "df_tech_ratio.set_index('year', inplace=True)"
   ]
  },
  {
   "cell_type": "code",
   "execution_count": 37,
   "metadata": {},
   "outputs": [
    {
     "data": {
      "image/png": "[encoded data removed]",
      "text/plain": [
       "<Figure size 648x360 with 1 Axes>"
      ]
     },
     "metadata": {
      "needs_background": "light"
     },
     "output_type": "display_data"
    }
   ],
   "source": [
    "fig, ax = plt.subplots(1, 1, figsize=(9, 5))\n",
    "ax.plot(df_tech_ratio['max'], label='max')\n",
    "ax.plot(df_tech_ratio['min'], label='min')\n",
    "plt.xticks([2016,2017,2018,2019,2020])\n",
    "plt.title(\"Ratio MaxMin Tech Companies\")\n",
    "plt.legend(loc = 'best')\n",
    "plt.tight_layout()"
   ]
  },
  {
   "cell_type": "markdown",
   "metadata": {},
   "source": [
    "<h4>MinMax Ratios Industrial Sector"
   ]
  },
  {
   "cell_type": "code",
   "execution_count": 38,
   "metadata": {},
   "outputs": [],
   "source": [
    "df_ind_ratio = ratioMinMax(ind_growth)\n",
    "df_ind_ratio.set_index('year', inplace=True)"
   ]
  },
  {
   "cell_type": "code",
   "execution_count": 39,
   "metadata": {},
   "outputs": [
    {
     "data": {
      "image/png": "[encoded data removed]",
      "text/plain": [
       "<Figure size 648x360 with 1 Axes>"
      ]
     },
     "metadata": {
      "needs_background": "light"
     },
     "output_type": "display_data"
    }
   ],
   "source": [
    "fig, ax = plt.subplots(1, 1, figsize=(9, 5))\n",
    "ax.plot(df_ind_ratio['max'], label='max')\n",
    "ax.plot(df_ind_ratio['min'], label='min')\n",
    "plt.xticks([2016,2017,2018,2019,2020])\n",
    "plt.title(\"Ratio MaxMin Industrial Companies\")\n",
    "plt.legend(loc = 'best')\n",
    "plt.tight_layout()"
   ]
  },
  {
   "cell_type": "markdown",
   "metadata": {},
   "source": [
    "<h4>MinMax Ratios HealthCare Sector"
   ]
  },
  {
   "cell_type": "code",
   "execution_count": 40,
   "metadata": {},
   "outputs": [],
   "source": [
    "df_health_ratio = ratioMinMax(health_growth)\n",
    "df_health_ratio.set_index('year', inplace=True)"
   ]
  },
  {
   "cell_type": "code",
   "execution_count": 41,
   "metadata": {},
   "outputs": [
    {
     "data": {
      "image/png": "[encoded data removed]",
      "text/plain": [
       "<Figure size 648x360 with 1 Axes>"
      ]
     },
     "metadata": {
      "needs_background": "light"
     },
     "output_type": "display_data"
    }
   ],
   "source": [
    "fig, ax = plt.subplots(1, 1, figsize=(9, 5))\n",
    "ax.plot(df_health_ratio['max'], label='max')\n",
    "ax.plot(df_health_ratio['min'], label='min')\n",
    "plt.xticks([2016,2017,2018,2019,2020])\n",
    "plt.title(\"Ratio MaxMin HealthCare Companies\")\n",
    "plt.legend(loc = 'best')\n",
    "plt.tight_layout()"
   ]
  },
  {
   "cell_type": "code",
   "execution_count": null,
   "metadata": {},
   "outputs": [],
   "source": []
  },
  {
   "cell_type": "code",
   "execution_count": null,
   "metadata": {},
   "outputs": [],
   "source": []
  },
  {
   "cell_type": "code",
   "execution_count": 42,
   "metadata": {},
   "outputs": [],
   "source": [
    "# Top performing symbols in each year with respect to their growth rate\n",
    "def top_growth_old(df):\n",
    "    for year in range(2016,2021):  \n",
    "        year = str(year)\n",
    "        print(f'=========={year}==========')\n",
    "        print(' '*24)\n",
    "        print(df.sort_values(by=year, ascending=False).head()[year])\n",
    "        print(' '*24)"
   ]
  },
  {
   "cell_type": "code",
   "execution_count": 45,
   "metadata": {},
   "outputs": [
    {
     "name": "stdout",
     "output_type": "stream",
     "text": [
      "==========2016==========\n",
      "                        \n",
      "IDXX    0.608201\n",
      "ALGN    0.459833\n",
      "WST     0.408668\n",
      "UNH     0.360422\n",
      "BIO     0.314582\n",
      "Name: 2016, dtype: float64\n",
      "                        \n",
      "==========2017==========\n",
      "                        \n",
      "ALGN    1.311349\n",
      "VRTX    1.034207\n",
      "CNC     0.785171\n",
      "ISRG    0.726383\n",
      "ILMN    0.706420\n",
      "Name: 2017, dtype: float64\n",
      "                        \n",
      "==========2018==========\n",
      "                        \n",
      "DXCM    1.087472\n",
      "ABMD    0.734379\n",
      "BSX     0.425575\n",
      "HCA     0.416781\n",
      "ILMN    0.372740\n",
      "Name: 2018, dtype: float64\n",
      "                        \n",
      "==========2019==========\n",
      "                        \n",
      "DXCM    0.825876\n",
      "BIO     0.593446\n",
      "ZTS     0.547229\n",
      "WST     0.533510\n",
      "EW      0.523079\n",
      "Name: 2019, dtype: float64\n",
      "                        \n",
      "==========2020==========\n",
      "                        \n",
      "DXCM    0.955518\n",
      "ABMD    0.823671\n",
      "WST     0.822125\n",
      "REGN    0.637823\n",
      "IDXX    0.479263\n",
      "Name: 2020, dtype: float64\n",
      "                        \n"
     ]
    }
   ],
   "source": [
    "top_growth_old(health_growth)"
   ]
  },
  {
   "cell_type": "code",
   "execution_count": null,
   "metadata": {},
   "outputs": [],
   "source": []
  }
 ],
 "metadata": {
  "kernelspec": {
   "display_name": "Python 3",
   "language": "python",
   "name": "python3"
  },
  "language_info": {
   "codemirror_mode": {
    "name": "ipython",
    "version": 3
   },
   "file_extension": ".py",
   "mimetype": "text/x-python",
   "name": "python",
   "nbconvert_exporter": "python",
   "pygments_lexer": "ipython3",
   "version": "3.6.10"
  }
 },
 "nbformat": 4,
 "nbformat_minor": 2
}
